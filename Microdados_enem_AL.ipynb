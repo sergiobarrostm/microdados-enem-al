{
  "nbformat": 4,
  "nbformat_minor": 0,
  "metadata": {
    "colab": {
      "name": "Microdados-enem-AL.ipynb",
      "provenance": [],
      "authorship_tag": "ABX9TyNRz0Dm4VnYg15P3VMu4I0m",
      "include_colab_link": true
    },
    "kernelspec": {
      "name": "python3",
      "display_name": "Python 3"
    },
    "language_info": {
      "name": "python"
    }
  },
  "cells": [
    {
      "cell_type": "markdown",
      "metadata": {
        "id": "view-in-github",
        "colab_type": "text"
      },
      "source": [
        "<a href=\"https://colab.research.google.com/github/sergiobarrostm/microdados-enem-al/blob/main/Microdados_enem_AL.ipynb\" target=\"_parent\"><img src=\"https://colab.research.google.com/assets/colab-badge.svg\" alt=\"Open In Colab\"/></a>"
      ]
    },
    {
      "cell_type": "code",
      "execution_count": null,
      "metadata": {
        "id": "-qwQR9s9bCjY"
      },
      "outputs": [],
      "source": [
        ""
      ]
    },
    {
      "cell_type": "markdown",
      "source": [
        "Microdados Enem 2020 AL"
      ],
      "metadata": {
        "id": "r239YTKQbJD0"
      }
    },
    {
      "cell_type": "code",
      "source": [
        ""
      ],
      "metadata": {
        "id": "81wGwB_Eb1k0"
      },
      "execution_count": null,
      "outputs": []
    }
  ]
}